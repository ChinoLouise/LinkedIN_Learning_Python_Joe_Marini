{
  "nbformat": 4,
  "nbformat_minor": 0,
  "metadata": {
    "colab": {
      "provenance": [],
      "authorship_tag": "ABX9TyO+p3Qi0rRKtYLdKo7vJxo0",
      "include_colab_link": true
    },
    "kernelspec": {
      "name": "python3",
      "display_name": "Python 3"
    },
    "language_info": {
      "name": "python"
    }
  },
  "cells": [
    {
      "cell_type": "markdown",
      "metadata": {
        "id": "view-in-github",
        "colab_type": "text"
      },
      "source": [
        "<a href=\"https://colab.research.google.com/github/ChinoLouise/LinkedIN_Learning_Python_Joe_Marini/blob/main/C2_Hello_World.ipynb\" target=\"_parent\"><img src=\"https://colab.research.google.com/assets/colab-badge.svg\" alt=\"Open In Colab\"/></a>"
      ]
    },
    {
      "cell_type": "code",
      "execution_count": null,
      "metadata": {
        "colab": {
          "base_uri": "https://localhost:8080/"
        },
        "id": "xRk36ivhmOm2",
        "outputId": "f3fea645-e135-42ae-8724-3e698266a3fb"
      },
      "outputs": [
        {
          "output_type": "stream",
          "name": "stdout",
          "text": [
            "hello world!\n",
            "What is your name? Chino\n",
            "Nice to meet you, Chino\n"
          ]
        }
      ],
      "source": [
        "# LinkedIn Learning Python course by Joe Marini\n",
        "# Example file for HelloWorld\n",
        "\n",
        "\n",
        "print(\"hello world!\")\n",
        "name = input(\"What is your name? \")\n",
        "print(\"Nice to meet you,\", name)"
      ]
    },
    {
      "cell_type": "code",
      "source": [],
      "metadata": {
        "id": "ZuPyZ4damcu_"
      },
      "execution_count": null,
      "outputs": []
    }
  ]
}