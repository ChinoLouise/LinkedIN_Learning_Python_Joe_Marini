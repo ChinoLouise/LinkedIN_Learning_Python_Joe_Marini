{
  "nbformat": 4,
  "nbformat_minor": 0,
  "metadata": {
    "colab": {
      "provenance": [],
      "authorship_tag": "ABX9TyOrMMYSsbaVQRmF9JSkr6KB",
      "include_colab_link": true
    },
    "kernelspec": {
      "name": "python3",
      "display_name": "Python 3"
    },
    "language_info": {
      "name": "python"
    }
  },
  "cells": [
    {
      "cell_type": "markdown",
      "metadata": {
        "id": "view-in-github",
        "colab_type": "text"
      },
      "source": [
        "<a href=\"https://colab.research.google.com/github/ChinoLouise/LinkedIN_Learning_Python_Joe_Marini/blob/main/C2_NumCounter.ipynb\" target=\"_parent\"><img src=\"https://colab.research.google.com/assets/colab-badge.svg\" alt=\"Open In Colab\"/></a>"
      ]
    },
    {
      "cell_type": "code",
      "execution_count": 1,
      "metadata": {
        "colab": {
          "base_uri": "https://localhost:8080/"
        },
        "id": "SNSlHDXEJXXO",
        "outputId": "34770307-09dd-4952-ba91-214bbb2f29ed"
      },
      "outputs": [
        {
          "output_type": "stream",
          "name": "stdout",
          "text": [
            "4\n",
            "5\n",
            "-1\n"
          ]
        }
      ],
      "source": [
        "# LinkedIn Learning Python course by Joe Marini\n",
        "# Solution for the number counter challenge\n",
        "\n",
        "def count_numbers(which, nums):\n",
        "    if which != \"even\" and which != \"odd\":\n",
        "        return -1\n",
        "\n",
        "    result = 0\n",
        "    for num in nums:\n",
        "        if which == \"even\" and num % 2 == 0:\n",
        "            result += 1\n",
        "        if which == \"odd\" and num % 2 != 0:\n",
        "            result += 1\n",
        "    return result\n",
        "\n",
        "\n",
        "print(count_numbers(\"even\", [1,4,7,10,19,21,24,13,14]))\n",
        "print(count_numbers(\"odd\", [1,4,7,10,19,21,24,13,14]))\n",
        "print(count_numbers(\"blarg\", [1,4,7,10,19,21,24,13,14]))"
      ]
    }
  ]
}