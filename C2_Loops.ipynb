{
  "nbformat": 4,
  "nbformat_minor": 0,
  "metadata": {
    "colab": {
      "provenance": [],
      "authorship_tag": "ABX9TyM5ujVSvXe9tGuzdSN6giq+",
      "include_colab_link": true
    },
    "kernelspec": {
      "name": "python3",
      "display_name": "Python 3"
    },
    "language_info": {
      "name": "python"
    }
  },
  "cells": [
    {
      "cell_type": "markdown",
      "metadata": {
        "id": "view-in-github",
        "colab_type": "text"
      },
      "source": [
        "<a href=\"https://colab.research.google.com/github/ChinoLouise/LinkedIN_Learning_Python_Joe_Marini/blob/main/C2_Loops.ipynb\" target=\"_parent\"><img src=\"https://colab.research.google.com/assets/colab-badge.svg\" alt=\"Open In Colab\"/></a>"
      ]
    },
    {
      "cell_type": "code",
      "execution_count": 1,
      "metadata": {
        "colab": {
          "base_uri": "https://localhost:8080/"
        },
        "id": "gTAUc1cdz540",
        "outputId": "74b0ac8b-a714-4f63-b36f-f4f0aa596e34"
      },
      "outputs": [
        {
          "output_type": "stream",
          "name": "stdout",
          "text": [
            "0\n",
            "1\n",
            "2\n",
            "3\n",
            "4\n",
            "Should I stop?yes\n",
            "Mon\n",
            "Tue\n",
            "Wed\n",
            "Thu\n",
            "Fri\n",
            "Sat\n",
            "Sun\n",
            "Mon\n",
            "Tue\n",
            "Wed\n",
            "Thu\n",
            "Fri\n",
            "Sat\n",
            "Sun\n",
            "0 Mon\n",
            "1 Tue\n",
            "2 Wed\n",
            "3 Thu\n",
            "4 Fri\n",
            "5 Sat\n",
            "6 Sun\n"
          ]
        }
      ],
      "source": [
        "# LinkedIn Learning Python course by Joe Marini\n",
        "# Example file for working with loops\n",
        "\n",
        "\n",
        "x = 0\n",
        "\n",
        "# define a while loop\n",
        "while (x < 5):\n",
        "    print(x)\n",
        "    x = x + 1\n",
        "\n",
        "answer = input(\"Should I stop?\")\n",
        "while answer != \"yes\":\n",
        "  print(answer)\n",
        "  answer = input(\"Should I stop?\")\n",
        "\n",
        "# use a for loop over a collection\n",
        "days = [\"Mon\",\"Tue\",\"Wed\",\"Thu\",\"Fri\",\"Sat\",\"Sun\"]\n",
        "for d in days:\n",
        "    print(d)\n",
        "\n",
        "# use the break and continue statements\n",
        "for d in days:\n",
        "    # if (d == \"Wed\"):\n",
        "    #     break\n",
        "    # if (d == \"Thu\"):\n",
        "    #     continue\n",
        "    print(d)\n",
        "\n",
        "# using the enumerate() function to get an index and an item\n",
        "days = [\"Mon\",\"Tue\",\"Wed\",\"Thu\",\"Fri\",\"Sat\",\"Sun\"]\n",
        "for i, d in enumerate(days):\n",
        "    print(i, d)"
      ]
    }
  ]
}