{
  "nbformat": 4,
  "nbformat_minor": 0,
  "metadata": {
    "colab": {
      "provenance": [],
      "authorship_tag": "ABX9TyPIwsy9nAs7/fFPd1HFbPIR",
      "include_colab_link": true
    },
    "kernelspec": {
      "name": "python3",
      "display_name": "Python 3"
    },
    "language_info": {
      "name": "python"
    }
  },
  "cells": [
    {
      "cell_type": "markdown",
      "metadata": {
        "id": "view-in-github",
        "colab_type": "text"
      },
      "source": [
        "<a href=\"https://colab.research.google.com/github/ChinoLouise/LinkedIN_Learning_Python_Joe_Marini/blob/main/C2_Functions.ipynb\" target=\"_parent\"><img src=\"https://colab.research.google.com/assets/colab-badge.svg\" alt=\"Open In Colab\"/></a>"
      ]
    },
    {
      "cell_type": "code",
      "execution_count": 1,
      "metadata": {
        "colab": {
          "base_uri": "https://localhost:8080/"
        },
        "id": "Y1U-k-5PJANj",
        "outputId": "f1ead7da-7222-40c2-c5d4-958f0cd002b3"
      },
      "outputs": [
        {
          "output_type": "stream",
          "name": "stdout",
          "text": [
            "hello world!\n",
            "What is your name? Chino\n",
            "Nice to meet you, Chino\n",
            "27\n",
            "hello world!\n",
            "Nice to meet you Mike\n",
            "hello world!\n",
            "Hi there, Joe\n",
            "33\n"
          ]
        }
      ],
      "source": [
        "# LinkedIn Learning Python course by Joe Marini\n",
        "# Example file for working with functions\n",
        "\n",
        "\n",
        "# define a basic function\n",
        "def hello_func():\n",
        "    print(\"hello world!\")\n",
        "    name = input(\"What is your name? \")\n",
        "    print(\"Nice to meet you,\", name)\n",
        "\n",
        "hello_func()\n",
        "\n",
        "# function that takes parameters and returns a value\n",
        "def cube(x):\n",
        "    return x*x*x\n",
        "\n",
        "result = cube(3)\n",
        "print(result)\n",
        "\n",
        "# function with default value for an argument\n",
        "def hello_func(greeting, name=None):\n",
        "    print(\"hello world!\")\n",
        "    if name == None:\n",
        "        name = input(\"What is your name? \")\n",
        "    print(greeting, name)\n",
        "\n",
        "hello_func(\"Nice to meet you\", \"Mike\")\n",
        "hello_func(name=\"Joe\", greeting=\"Hi there,\")\n",
        "\n",
        "# function with variable number of arguments\n",
        "def multi_add(start, *args):\n",
        "    result = start\n",
        "    for x in args:\n",
        "        result = result + x\n",
        "    return result\n",
        "\n",
        "print(multi_add(10,4,5,10,4))"
      ]
    }
  ]
}