{
  "nbformat": 4,
  "nbformat_minor": 0,
  "metadata": {
    "colab": {
      "provenance": [],
      "authorship_tag": "ABX9TyMqCfIRgRNnDyZldyycdVtI",
      "include_colab_link": true
    },
    "kernelspec": {
      "name": "python3",
      "display_name": "Python 3"
    },
    "language_info": {
      "name": "python"
    }
  },
  "cells": [
    {
      "cell_type": "markdown",
      "metadata": {
        "id": "view-in-github",
        "colab_type": "text"
      },
      "source": [
        "<a href=\"https://colab.research.google.com/github/ChinoLouise/LinkedIN_Learning_Python_Joe_Marini/blob/main/C2_Variables.ipynb\" target=\"_parent\"><img src=\"https://colab.research.google.com/assets/colab-badge.svg\" alt=\"Open In Colab\"/></a>"
      ]
    },
    {
      "cell_type": "code",
      "execution_count": 3,
      "metadata": {
        "colab": {
          "base_uri": "https://localhost:8080/"
        },
        "id": "_5aXC5zynbw7",
        "outputId": "bd3d5d1f-7b90-44cc-8df1-ab7b294c8b4a"
      },
      "outputs": [
        {
          "output_type": "stream",
          "name": "stdout",
          "text": [
            "10\n",
            "This is a string\n",
            "132.576\n",
            "1\n",
            "This is a stringThis is another string\n",
            "nom nom nom \n",
            "True\n",
            "True\n",
            "True\n",
            "abc\n"
          ]
        }
      ],
      "source": [
        "# LinkedIn Learning Python course by Joe Marini\n",
        "# Example file for variables and basic types\n",
        "\n",
        "\n",
        "# Basic data types in Python: Numbers, Strings, Booleans\n",
        "# Variable names must start with a letter or _, and can have numbers. They are case sensitive.\n",
        "myint = 10\n",
        "myfloat = 13.2576\n",
        "mystr = \"This is a string\"\n",
        "mybool = True\n",
        "\n",
        "# We can display the content of a variable using the print() function\n",
        "print(myint)\n",
        "print(mystr)\n",
        "\n",
        "# Operators are used to perform operations on variables\n",
        "print(myint * myfloat)\n",
        "print(myint % 3)\n",
        "\n",
        "another_str = \"This is another string\"\n",
        "print(mystr + another_str)\n",
        "print(\"nom \" * 3)\n",
        "\n",
        "# Logical and comparison operators\n",
        "print(myint == 10)\n",
        "print(myfloat != 20)\n",
        "print(myint > 5 and myfloat < 25.0)\n",
        "\n",
        "# re-declaring a variable works\n",
        "myint = \"abc\"\n",
        "print(myint)"
      ]
    }
  ]
}