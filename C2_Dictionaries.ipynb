{
  "nbformat": 4,
  "nbformat_minor": 0,
  "metadata": {
    "colab": {
      "provenance": [],
      "authorship_tag": "ABX9TyOpYJcG+PMNjKvaWQphfS4H",
      "include_colab_link": true
    },
    "kernelspec": {
      "name": "python3",
      "display_name": "Python 3"
    },
    "language_info": {
      "name": "python"
    }
  },
  "cells": [
    {
      "cell_type": "markdown",
      "metadata": {
        "id": "view-in-github",
        "colab_type": "text"
      },
      "source": [
        "<a href=\"https://colab.research.google.com/github/ChinoLouise/LinkedIN_Learning_Python_Joe_Marini/blob/main/C2_Dictionaries.ipynb\" target=\"_parent\"><img src=\"https://colab.research.google.com/assets/colab-badge.svg\" alt=\"Open In Colab\"/></a>"
      ]
    },
    {
      "cell_type": "code",
      "execution_count": null,
      "metadata": {
        "id": "kzW--qu6vzuL"
      },
      "outputs": [],
      "source": [
        "# LinkedIn Learning Python course by Joe Marini\n",
        "# Example file for complex types\n",
        "\n",
        "\n",
        "# Dictionary: a key-value data structure\n",
        "mydict = {\n",
        "    \"one\": 1,\n",
        "    \"two\": 2,\n",
        "    3: \"three\",\n",
        "    4.5: [\"four\", \"point\", \"five\"],\n",
        "}\n",
        "\n",
        "# dictionaries are accessed via keys\n",
        "print(mydict[\"one\"])\n",
        "print(mydict[3])\n",
        "\n",
        "# you can also set dictionary data by creating a new key\n",
        "mydict[\"seven\"] = 7\n",
        "print(mydict)\n",
        "\n",
        "# Trying to access a nonexistent key will produce an error\n",
        "# print(mydict[\"blarg\"])\n",
        "\n",
        "# To avoid this, you can use the \"in\" operator to see if a key exists\n",
        "print(\"two\" in mydict)\n",
        "print(\"blarg\" in mydict)\n",
        "\n",
        "# You can retrieve all of the keys and values from a dictionary\n",
        "print(mydict.keys())\n",
        "print(mydict.values())\n",
        "\n",
        "# You can also iterate over all the items in a dictionary\n",
        "for key, val in mydict.items():\n",
        "    print(key, val)"
      ]
    }
  ]
}