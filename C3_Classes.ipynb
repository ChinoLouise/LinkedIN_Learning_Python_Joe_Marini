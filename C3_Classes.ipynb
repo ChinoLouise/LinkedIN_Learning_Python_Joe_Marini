{
  "nbformat": 4,
  "nbformat_minor": 0,
  "metadata": {
    "colab": {
      "provenance": [],
      "authorship_tag": "ABX9TyM8M1NckC4ExDSE3tf2VDr8",
      "include_colab_link": true
    },
    "kernelspec": {
      "name": "python3",
      "display_name": "Python 3"
    },
    "language_info": {
      "name": "python"
    }
  },
  "cells": [
    {
      "cell_type": "markdown",
      "metadata": {
        "id": "view-in-github",
        "colab_type": "text"
      },
      "source": [
        "<a href=\"https://colab.research.google.com/github/ChinoLouise/LinkedIN_Learning_Python_Joe_Marini/blob/main/C3_Classes.ipynb\" target=\"_parent\"><img src=\"https://colab.research.google.com/assets/colab-badge.svg\" alt=\"Open In Colab\"/></a>"
      ]
    },
    {
      "cell_type": "code",
      "execution_count": 1,
      "metadata": {
        "colab": {
          "base_uri": "https://localhost:8080/"
        },
        "id": "R43wcdLO-4kQ",
        "outputId": "09877842-85a2-498d-a419-2093bdcde926"
      },
      "outputs": [
        {
          "output_type": "stream",
          "name": "stdout",
          "text": [
            "2\n",
            "gas\n",
            "4\n",
            "Driving my gas Car at  30\n",
            "Driving my electric Car at  40\n",
            "Driving my gas motorcylce at  50\n"
          ]
        }
      ],
      "source": [
        "# LinkedIn Learning Python course by Joe Marini\n",
        "# Example file for working with classes\n",
        "#\n",
        "\n",
        "class Vehicle:\n",
        "    def __init__(self, bodystyle):\n",
        "        self.bodystyle = bodystyle\n",
        "\n",
        "    def drive(self, speed):\n",
        "        self.mode = \"driving\"\n",
        "        self.speed = speed\n",
        "\n",
        "\n",
        "class Car(Vehicle):\n",
        "    def __init__(self, enginetype):\n",
        "        super().__init__(\"Car\")\n",
        "        self.wheels = 4\n",
        "        self.doors = 4\n",
        "        self.engine = enginetype\n",
        "\n",
        "    def drive(self, speed):\n",
        "        super().drive(speed)\n",
        "        print(\"Driving my\", self.engine, \"Car at \", self.speed)\n",
        "\n",
        "\n",
        "class Motorcycle(Vehicle):\n",
        "    def __init__(self, enginetype, hassidecar):\n",
        "        super().__init__(\"Motorcycle\")\n",
        "        if (hassidecar):\n",
        "            self.wheels = 2\n",
        "        else:\n",
        "            self.wheels = 3\n",
        "        self.doors = 0\n",
        "        self.engine = enginetype\n",
        "\n",
        "    def drive(self, speed):\n",
        "        super().drive(speed)\n",
        "        print(\"Driving my\", self.engine, \"motorcylce at \", self.speed)\n",
        "\n",
        "\n",
        "car1 = Car(\"gas\")\n",
        "car2 = Car(\"electric\")\n",
        "mc1 = Motorcycle(\"gas\", True)\n",
        "\n",
        "print(mc1.wheels)\n",
        "print(car1.engine)\n",
        "print(car2.doors)\n",
        "\n",
        "car1.drive(30)\n",
        "car2.drive(40)\n",
        "mc1.drive(50)"
      ]
    }
  ]
}