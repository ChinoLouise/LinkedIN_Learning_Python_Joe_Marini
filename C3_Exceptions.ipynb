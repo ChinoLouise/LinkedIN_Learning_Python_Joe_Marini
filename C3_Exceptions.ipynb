{
  "nbformat": 4,
  "nbformat_minor": 0,
  "metadata": {
    "colab": {
      "provenance": [],
      "authorship_tag": "ABX9TyPliGmKn3bL2lNDp0wuyI6h",
      "include_colab_link": true
    },
    "kernelspec": {
      "name": "python3",
      "display_name": "Python 3"
    },
    "language_info": {
      "name": "python"
    }
  },
  "cells": [
    {
      "cell_type": "markdown",
      "metadata": {
        "id": "view-in-github",
        "colab_type": "text"
      },
      "source": [
        "<a href=\"https://colab.research.google.com/github/ChinoLouise/LinkedIN_Learning_Python_Joe_Marini/blob/main/C3_Exceptions.ipynb\" target=\"_parent\"><img src=\"https://colab.research.google.com/assets/colab-badge.svg\" alt=\"Open In Colab\"/></a>"
      ]
    },
    {
      "cell_type": "code",
      "execution_count": 1,
      "metadata": {
        "colab": {
          "base_uri": "https://localhost:8080/"
        },
        "id": "rKB2awo4_1FG",
        "outputId": "63b33033-0a35-4cbe-a62e-69ed3f02264c"
      },
      "outputs": [
        {
          "output_type": "stream",
          "name": "stdout",
          "text": [
            "Well that didn't work!\n",
            "What should I divide 10 by?50\n",
            "0.2\n",
            "The finally section always runs\n"
          ]
        }
      ],
      "source": [
        "# LinkedIn Learning Python course by Joe Marini\n",
        "# Example file for working with Exceptions\n",
        "#\n",
        "\n",
        "# Errors can happen in programs, and we need a clean way to handle them\n",
        "# This code will cause an error because you can't divide by zero:\n",
        "# x = 10 / 0\n",
        "\n",
        "# Exceptions provide a way of catching errors and then handling them in\n",
        "# a separate section of the code to group them together\n",
        "try:\n",
        "    x = 10 / 0\n",
        "except:\n",
        "    print(\"Well that didn't work!\")\n",
        "\n",
        "# You can also catch specific exceptions\n",
        "try:\n",
        "    answer = input(\"What should I divide 10 by?\")\n",
        "    num = int(answer)\n",
        "    print(10 / num)\n",
        "except ZeroDivisionError as e:\n",
        "    print(\"You can't divide by zero!\")\n",
        "except ValueError as e:\n",
        "    print(\"You didn't give me a valid number!\")\n",
        "    print(e)\n",
        "finally:\n",
        "    print(\"The finally section always runs\")"
      ]
    }
  ]
}