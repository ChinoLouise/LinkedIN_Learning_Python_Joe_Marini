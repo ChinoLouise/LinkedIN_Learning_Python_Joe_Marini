{
  "nbformat": 4,
  "nbformat_minor": 0,
  "metadata": {
    "colab": {
      "provenance": [],
      "authorship_tag": "ABX9TyMc1RzCIVI2u4wMgXxj/a4w",
      "include_colab_link": true
    },
    "kernelspec": {
      "name": "python3",
      "display_name": "Python 3"
    },
    "language_info": {
      "name": "python"
    }
  },
  "cells": [
    {
      "cell_type": "markdown",
      "metadata": {
        "id": "view-in-github",
        "colab_type": "text"
      },
      "source": [
        "<a href=\"https://colab.research.google.com/github/ChinoLouise/LinkedIN_Learning_Python_Joe_Marini/blob/main/C5_Dates.ipynb\" target=\"_parent\"><img src=\"https://colab.research.google.com/assets/colab-badge.svg\" alt=\"Open In Colab\"/></a>"
      ]
    },
    {
      "cell_type": "code",
      "execution_count": 2,
      "metadata": {
        "colab": {
          "base_uri": "https://localhost:8080/"
        },
        "id": "FP-gRhiCKgJD",
        "outputId": "09785bb4-26bd-4a23-b8c7-c67b598e5e00"
      },
      "outputs": [
        {
          "output_type": "stream",
          "name": "stdout",
          "text": [
            "Today's date is  2025-10-11\n",
            "Date Components:  11 10 2025\n",
            "Today's Weekday #:  5\n",
            "Which is a saturday\n",
            "The current date and time is  2025-10-11 12:09:08.189114\n",
            "The current time is  12:09:08.189188\n"
          ]
        }
      ],
      "source": [
        "#\n",
        "# Example file for working with date information\n",
        "# LinkedIn Learning Python course by Joe Marini\n",
        "#\n",
        "\n",
        "\n",
        "from datetime import date\n",
        "from datetime import datetime\n",
        "\n",
        "## DATE OBJECTS\n",
        "# Get today's date from the simple today() method from the date class\n",
        "today = date.today()\n",
        "print (\"Today's date is \", today)\n",
        "\n",
        "# print out the date's individual components\n",
        "print (\"Date Components: \", today.day, today.month, today.year)\n",
        "\n",
        "# retrieve today's weekday (0=Monday, 6=Sunday)\n",
        "print (\"Today's Weekday #: \", today.weekday())\n",
        "days = [\"monday\",\"tuesday\",\"wednesday\",\"thursday\",\"friday\",\"saturday\",\"sunday\"]\n",
        "print (\"Which is a \" + days[today.weekday()])\n",
        "\n",
        "## DATETIME OBJECTS\n",
        "# Get today's date from the datetime class\n",
        "today = datetime.now()\n",
        "print  (\"The current date and time is \", today)\n",
        "\n",
        "# Get the current time\n",
        "t = datetime.time(datetime.now())\n",
        "print (\"The current time is \", t)"
      ]
    }
  ]
}