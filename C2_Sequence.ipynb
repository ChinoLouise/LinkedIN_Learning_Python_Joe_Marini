{
  "nbformat": 4,
  "nbformat_minor": 0,
  "metadata": {
    "colab": {
      "provenance": [],
      "authorship_tag": "ABX9TyO+6odA+BnOL2VSUKAqPD66",
      "include_colab_link": true
    },
    "kernelspec": {
      "name": "python3",
      "display_name": "Python 3"
    },
    "language_info": {
      "name": "python"
    }
  },
  "cells": [
    {
      "cell_type": "markdown",
      "metadata": {
        "id": "view-in-github",
        "colab_type": "text"
      },
      "source": [
        "<a href=\"https://colab.research.google.com/github/ChinoLouise/LinkedIN_Learning_Python_Joe_Marini/blob/main/C2_Sequence.ipynb\" target=\"_parent\"><img src=\"https://colab.research.google.com/assets/colab-badge.svg\" alt=\"Open In Colab\"/></a>"
      ]
    },
    {
      "cell_type": "code",
      "execution_count": 1,
      "metadata": {
        "colab": {
          "base_uri": "https://localhost:8080/"
        },
        "id": "KDWHK97xtzkj",
        "outputId": "e8127d1a-3761-4340-8ef9-f0d1a4808b6c"
      },
      "outputs": [
        {
          "output_type": "stream",
          "name": "stdout",
          "text": [
            "5\n",
            "two\n",
            "False\n",
            "1\n",
            "[5, 6.0, 'seven']\n",
            "[1, 'two', 3.2]\n",
            "[1, 3.2]\n",
            "['seven', 6.0, 5, False, 3.2, 'two', 1, 1]\n",
            "1\n",
            "{1, 2, 3, 4, 'hey'}\n",
            "True\n",
            "False\n",
            "False\n"
          ]
        }
      ],
      "source": [
        "# LinkedIn Learning Python course by Joe Marini\n",
        "# Example file for complex types\n",
        "\n",
        "# Sequences: Lists and Tuples\n",
        "# These are -- surprise -- sequences of values\n",
        "mylist = [0, 1, \"two\", 3.2, False]\n",
        "print(len(mylist))\n",
        "\n",
        "# to access a member of a sequence type, use []\n",
        "print(mylist[2])\n",
        "print(mylist[-1])\n",
        "mylist[0] = 1\n",
        "print(mylist[0])\n",
        "\n",
        "# add a list to another list\n",
        "anotherlist = [5, 6.0, \"seven\"]\n",
        "mylist = mylist + anotherlist\n",
        "print(anotherlist)\n",
        "\n",
        "# use slices to get parts of a sequence\n",
        "print(mylist[1:4])\n",
        "print(mylist[1:4:2])\n",
        "\n",
        "# you can use slices to reverse a sequence\n",
        "print(mylist[::-1])\n",
        "\n",
        "# Tuples are like lists, but they are immutable\n",
        "mytuple = (0, 1, 2, \"three\")\n",
        "print(mytuple[1])\n",
        "\n",
        "# Sets are also sequences, but they contain unique values\n",
        "myset = {1, 2, 3, 2, 4, \"hey\"}\n",
        "print(myset)\n",
        "# Set, however, can not be indexed like lists or tuples\n",
        "# print(myset[0]) # this will cause an error\n",
        "\n",
        "# Test for membership\n",
        "print(1 in mylist)\n",
        "print(3 in mytuple)\n",
        "print(5 in myset)"
      ]
    }
  ]
}