{
  "nbformat": 4,
  "nbformat_minor": 0,
  "metadata": {
    "colab": {
      "provenance": [],
      "authorship_tag": "ABX9TyPlxQNsAQe1iTcmHpLUUXal",
      "include_colab_link": true
    },
    "kernelspec": {
      "name": "python3",
      "display_name": "Python 3"
    },
    "language_info": {
      "name": "python"
    }
  },
  "cells": [
    {
      "cell_type": "markdown",
      "metadata": {
        "id": "view-in-github",
        "colab_type": "text"
      },
      "source": [
        "<a href=\"https://colab.research.google.com/github/ChinoLouise/LinkedIN_Learning_Python_Joe_Marini/blob/main/C2_Conditionals.ipynb\" target=\"_parent\"><img src=\"https://colab.research.google.com/assets/colab-badge.svg\" alt=\"Open In Colab\"/></a>"
      ]
    },
    {
      "cell_type": "code",
      "execution_count": 1,
      "metadata": {
        "colab": {
          "base_uri": "https://localhost:8080/"
        },
        "id": "mtpvbuFSzhzK",
        "outputId": "2494bbcb-7002-450a-fa88-87897a73281f"
      },
      "outputs": [
        {
          "output_type": "stream",
          "name": "stdout",
          "text": [
            "x is less than y\n",
            "x is less than y\n"
          ]
        }
      ],
      "source": [
        "# LinkedIn Learning Python course by Joe Marini\n",
        "# Example file for working with conditional statements\n",
        "\n",
        "\n",
        "x, y = 10, 100\n",
        "\n",
        "# conditional flow uses if, elif, else\n",
        "if x < y:\n",
        "    print(\"x is less than y\")\n",
        "elif x == y:\n",
        "    print(\"x is same as y\")\n",
        "else:\n",
        "    print(\"x is greater than y\")\n",
        "\n",
        "# conditional statements let you use \"a if C else b\"\n",
        "result = \"x is less than y\" if (x < y) else \"x is greater than or equal to y\"\n",
        "print(result)"
      ]
    }
  ]
}