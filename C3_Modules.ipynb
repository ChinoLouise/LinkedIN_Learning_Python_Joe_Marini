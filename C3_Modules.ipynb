{
  "nbformat": 4,
  "nbformat_minor": 0,
  "metadata": {
    "colab": {
      "provenance": [],
      "authorship_tag": "ABX9TyNllZXGpjygU5ApJRODNn1Q",
      "include_colab_link": true
    },
    "kernelspec": {
      "name": "python3",
      "display_name": "Python 3"
    },
    "language_info": {
      "name": "python"
    }
  },
  "cells": [
    {
      "cell_type": "markdown",
      "metadata": {
        "id": "view-in-github",
        "colab_type": "text"
      },
      "source": [
        "<a href=\"https://colab.research.google.com/github/ChinoLouise/LinkedIN_Learning_Python_Joe_Marini/blob/main/C3_Modules.ipynb\" target=\"_parent\"><img src=\"https://colab.research.google.com/assets/colab-badge.svg\" alt=\"Open In Colab\"/></a>"
      ]
    },
    {
      "cell_type": "code",
      "execution_count": 1,
      "metadata": {
        "colab": {
          "base_uri": "https://localhost:8080/"
        },
        "id": "N6jfDhf1_HHd",
        "outputId": "c1362a2b-e21f-4baa-fee5-2f00e91aa7f9"
      },
      "outputs": [
        {
          "output_type": "stream",
          "name": "stdout",
          "text": [
            "The square root of 16 is 4.0\n",
            "Pi is: 3.141592653589793\n",
            "101\n",
            "╒═══════════╤═════════╤═════════╕\n",
            "│ Product   │   Price │   Stock │\n",
            "╞═══════════╪═════════╪═════════╡\n",
            "│ Laptop    │  999.99 │      45 │\n",
            "├───────────┼─────────┼─────────┤\n",
            "│ Mouse     │   24.99 │     128 │\n",
            "├───────────┼─────────┼─────────┤\n",
            "│ Keyboard  │   59.99 │      89 │\n",
            "╘═══════════╧═════════╧═════════╛\n"
          ]
        }
      ],
      "source": [
        "# LinkedIn Learning Python course by Joe Marini\n",
        "# Working with modules of code\n",
        "\n",
        "# import the math module, which contains features for working with mathematics\n",
        "import math\n",
        "# import a specific part of the module so you can refer to it more easily\n",
        "from math import pi\n",
        "# import a module and give it a different name\n",
        "import random as r\n",
        "\n",
        "# the math module contains lots of pre-built functions\n",
        "print(\"The square root of 16 is\", math.sqrt(16))\n",
        "\n",
        "# in addition to functions, some modules contain useful constants\n",
        "print(\"Pi is:\", pi)\n",
        "\n",
        "# Generate a random number between 100 and 200\n",
        "print(r.randint(100,200))\n",
        "\n",
        "# try some of the math functions for yourself here:\n",
        "\n",
        "\n",
        "# Use the 3rd party tabulate module to print tabulated data:\n",
        "from tabulate import tabulate\n",
        "\n",
        "# Sample data\n",
        "data = [\n",
        "  [\"Product\", \"Price\", \"Stock\"],\n",
        "  [\"Laptop\", 999.99, 45],\n",
        "  [\"Mouse\", 24.99, 128],\n",
        "  [\"Keyboard\", 59.99, 89]\n",
        "]\n",
        "\n",
        "# Create a formatted table\n",
        "print(tabulate(data, headers=\"firstrow\", tablefmt=\"fancy_grid\"))"
      ]
    }
  ]
}