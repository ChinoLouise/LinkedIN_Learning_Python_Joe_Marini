{
  "nbformat": 4,
  "nbformat_minor": 0,
  "metadata": {
    "colab": {
      "provenance": [],
      "authorship_tag": "ABX9TyPMo5ot6PRYf0kH3bnbGSHN",
      "include_colab_link": true
    },
    "kernelspec": {
      "name": "python3",
      "display_name": "Python 3"
    },
    "language_info": {
      "name": "python"
    }
  },
  "cells": [
    {
      "cell_type": "markdown",
      "metadata": {
        "id": "view-in-github",
        "colab_type": "text"
      },
      "source": [
        "<a href=\"https://colab.research.google.com/github/ChinoLouise/LinkedIN_Learning_Python_Joe_Marini/blob/main/C3_Builtins.ipynb\" target=\"_parent\"><img src=\"https://colab.research.google.com/assets/colab-badge.svg\" alt=\"Open In Colab\"/></a>"
      ]
    },
    {
      "cell_type": "code",
      "execution_count": 1,
      "metadata": {
        "id": "QwttFXrd_gcs",
        "outputId": "31c4f8e4-899f-4058-b5b5-d777f1b0b74e",
        "colab": {
          "base_uri": "https://localhost:8080/"
        }
      },
      "outputs": [
        {
          "output_type": "stream",
          "name": "stdout",
          "text": [
            "46\n",
            "10\n",
            "30\n",
            "1\n",
            "result: 5\n",
            "3.1415\n",
            "u\n",
            "c\n",
            ",\n",
            "b\n",
            "o\n",
            "n\n",
            "f\n",
            "x\n",
            "j\n",
            "m\n",
            "e\n",
            " \n",
            "v\n",
            "r\n",
            "t\n",
            "e\n",
            "l\n",
            "z\n",
            " \n",
            "o\n",
            "!\n",
            "Hello! you are visitor number 10\n"
          ]
        }
      ],
      "source": [
        "# LinkedIn Learning Python course by Joe Marini\n",
        "# Example file for using built-in functions\n",
        "#\n",
        "\n",
        "mystring = \"The quick, brown fox jumped over the lazy dog!\"\n",
        "mynumbers = [1,3,5,6,9,12,14,17,20,30]\n",
        "\n",
        "# the len() function calculates the length of a sequence\n",
        "print(len(mystring))\n",
        "print(len(mynumbers))\n",
        "\n",
        "# the max() and min() functions will find the largest and smallest value in a sequence\n",
        "print(max(mynumbers))\n",
        "print(min(mynumbers))\n",
        "\n",
        "# the str() function will return a string version of an object\n",
        "prefix = \"result: \"\n",
        "result = 5\n",
        "print(prefix + str(result))\n",
        "print(str(3.1415))\n",
        "\n",
        "# range(start, stop, step) will create a range of numbers\n",
        "# You can use ranges along with loops\n",
        "for i in range(5,len(mystring),2):\n",
        "    print(mystring[i])\n",
        "\n",
        "# the print function itself is pretty flexible - you can embed variables directly in it\n",
        "greeting = \"Hello!\"\n",
        "count = 10\n",
        "print(f\"{greeting} you are visitor number {count}\")"
      ]
    }
  ]
}